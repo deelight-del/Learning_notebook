{
 "cells": [
  {
   "cell_type": "markdown",
   "id": "480770a9",
   "metadata": {},
   "source": [
    "# Logistic Regression.\n",
    "\n",
    "> Logistic Regression (LoR) is a classifier algorithm that adapts the linear model equation into a sigmoid function to predict the class of a feature when provided with other features.\n",
    "In a simple binary classiifying problem where there is a positive class assigned to **1** and a negative class assigned **0**, the model predicts the probability of both classes (using the predict_proba method of the LoR class).\n",
    "\n",
    "## Sigmoid Function\n",
    "> The sigmoid function is a simple function that adapts the linear model to produce a value between 0 and 1 no matter the outcome of the linear function. Writtten Below\n",
    "\n",
    "$$y' = \\frac{1}{1+e^{-z}}$$\n",
    "\n",
    "> Where z is the linear function with equation as follows below:\n",
    "\n",
    "$$z = b + w_1X_1 + w_2X_2...w_nX_n$$\n",
    "\n",
    "> Where w represent the weights of each feature X.\n",
    "\n",
    "## Odds Ratio\n",
    ">- The odds ratio is used often to communicate to stake holders about the effect of the features X on the positive class of the predicted value. i.e. if odds ratio of feature $X_n$ is 4, this means that the feature $X_n$ influences the likelihod of the positive class 4 times (400%) than other features ceteris paribus (All things being equal). Also if the odds ratio of a feature $X_{n-1}$ is 0.3, this also means that the feature $X_{n-1}$ influences the positive class less 0.7 than other classes ceteris paribus, i.e it influences the positive class by 70% less than other classes.\n",
    "\n",
    ">- The odds ratio is obtained using the Sigmoid function and reversing the $y'$ (by integration) and making z(the linear equation model) as a function of y. This certain equation results in the equation below:\n",
    "$$z = \\log{\\frac{y}{1-y}}$$\n",
    "\n",
    ">- The equation with z as the dependent variable is referred to as log odds ratio and it takes into account the success of y over the failure of y, where y is the positive class. To make $\\frac{y}{1-y}$ as the subject of formula we have the equation below:\n",
    "\n",
    "$$\\frac{y}{1-y} = 10^{z}$$\n",
    "\n",
    ">- This formula above gives birth to the `odds ratio` that is used to evaluate and communicate **feature importance** in a `logistic regression` classification."
   ]
  },
  {
   "cell_type": "code",
   "execution_count": null,
   "id": "1124f9c8",
   "metadata": {},
   "outputs": [],
   "source": []
  }
 ],
 "metadata": {
  "kernelspec": {
   "display_name": "Python 3",
   "language": "python",
   "name": "python3"
  },
  "language_info": {
   "codemirror_mode": {
    "name": "ipython",
    "version": 3
   },
   "file_extension": ".py",
   "mimetype": "text/x-python",
   "name": "python",
   "nbconvert_exporter": "python",
   "pygments_lexer": "ipython3",
   "version": "3.8.5"
  }
 },
 "nbformat": 4,
 "nbformat_minor": 5
}
